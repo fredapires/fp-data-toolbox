{
 "cells": [
  {
   "attachments": {},
   "cell_type": "markdown",
   "metadata": {},
   "source": [
    "# **_scratch**\n",
    "\n",
    "---"
   ]
  },
  {
   "cell_type": "markdown",
   "metadata": {},
   "source": [
    "<br><br><br>\n",
    "\n",
    "## **Objectives**\n",
    "\n",
    "---"
   ]
  },
  {
   "cell_type": "markdown",
   "metadata": {},
   "source": [
    "Description of dataset and/or problem"
   ]
  },
  {
   "cell_type": "markdown",
   "metadata": {},
   "source": [
    "### **Visual**"
   ]
  },
  {
   "cell_type": "markdown",
   "metadata": {},
   "source": [
    "| Type          | Description                                  | Color      |\n",
    "| ------------- | -------------------------------------------- | ---------- |\n",
    "| Process       | Nodes that represent processing steps        | 🟩 Green  |\n",
    "| Custom Type 1 | Description for custom type 1 (e.g., Input)  | 🟧 Orange |\n",
    "| Data Stored   | Nodes that represent data storage            | 🟨 Yellow |\n",
    "| Reports       | Reporting                                    | 🟦 Blue   |\n",
    "| Analysis      | Nodes that represent analysis operations     | 🟥 Red    |\n",
    "| Custom Type 2 | Description for custom type 2 (e.g., Output) | 🟪 Purple |\n",
    "\n",
    "```mermaid\n",
    "graph LR;\n",
    "%%%% Define Nodes\n",
    "subgraph insights [Insights]\n",
    "    analyze_adhoc[Adhoc Analysis]:::analysis\n",
    "    ca_reporting[C&A Reporting]:::reporting\n",
    "    reporting_full[Full Report]:::reporting\n",
    "end\n",
    "\n",
    "analytics_data[Full Analytics Data]:::data_stored\n",
    "reporting_data[Full Reporting Data]:::data_stored\n",
    "reporting_actuals_data[Reporting Actuals Data]:::data_stored\n",
    "actuals_analysis[Analysis Actuals Data]:::data_stored\n",
    "prediction[Future Predictions]:::data_stored\n",
    "train(Model Training):::process\n",
    "\n",
    "subgraph initial_processing [Initial Processing]\n",
    "    transform(Data Transformation):::process\n",
    "    preprocess(Preprocessing):::process\n",
    "end\n",
    "actuals_raw[Raw Actuals Data]:::data_stored\n",
    "collect(Data Collection):::process\n",
    "\n",
    "%%%% Define connections\n",
    "actuals_analysis ----> reporting_actuals_data\n",
    "analytics_data --> ca_reporting\n",
    "analytics_data --> analyze_adhoc\n",
    "actuals_analysis ----> analytics_data\n",
    "reporting_data --> reporting_full\n",
    "prediction ----> reporting_data\n",
    "reporting_actuals_data --> reporting_data\n",
    "prediction ----> analytics_data\n",
    "train --> prediction\n",
    "actuals_analysis --> train\n",
    "transform --> actuals_analysis\n",
    "preprocess --> transform\n",
    "actuals_raw --> preprocess\n",
    "collect --> actuals_raw\n",
    "\n",
    "%%%% Define the styling for the diagram\n",
    "classDef default fill:#C2C2C2,stroke:#333,stroke-width:2px,color:black,font-weight:bold;\n",
    "%%%%\n",
    "classDef data_interim fill:#F97316,stroke:#333,stroke-width:2px,color:black;\n",
    "classDef data_stored fill:#FCDC3B,stroke:#333,stroke-width:2px,color:black;\n",
    "classDef process fill:#3FBF3F,stroke:#333,stroke-width:2px,color:black;\n",
    "classDef reporting fill:#60A5FA,stroke:#333,stroke-width:2px,color:black;\n",
    "classDef analysis fill:#F93822,stroke:#333,stroke-width:2px,color:black;\n",
    "```\n"
   ]
  },
  {
   "cell_type": "markdown",
   "metadata": {},
   "source": [
    "<br><br><br>\n",
    "\n",
    "## **Imports / Environment Setup**\n",
    "\n",
    "---"
   ]
  },
  {
   "cell_type": "code",
   "execution_count": null,
   "metadata": {},
   "outputs": [],
   "source": [
    "# imports\n",
    "import numpy as np\n",
    "import pandas as pd\n",
    "import plotly.express as px\n",
    "import lux\n",
    "lux.config.default_display = 'lux'\n",
    "# custom imports\n",
    "from fp_data_toolbox import eda, notifier, visualization\n",
    "visualization.set_plotly_defaults()\n",
    "notifier.setup() #Enable for windows toast notifications on Jupyter cell complete\n",
    "# Magics env settings...\n",
    "%matplotlib inline\n",
    "# env variables\n",
    "df = pd.DataFrame() # creating empty dataframe variable\n",
    "params = {} # creating empty parameters dictionary"
   ]
  },
  {
   "attachments": {},
   "cell_type": "markdown",
   "metadata": {},
   "source": [
    "<br><br><br>\n",
    "\n",
    "## **Parameter setup**\n",
    "\n",
    "---"
   ]
  },
  {
   "cell_type": "code",
   "execution_count": null,
   "metadata": {},
   "outputs": [],
   "source": [
    "input_file = ''\n",
    "input_dir = ''\n",
    "input_path = input_dir+input_file"
   ]
  },
  {
   "attachments": {},
   "cell_type": "markdown",
   "metadata": {},
   "source": [
    "<br><br><br>\n",
    "\n",
    "## **Ingestion/Preprocessing**\n",
    "\n",
    "---"
   ]
  },
  {
   "cell_type": "code",
   "execution_count": null,
   "metadata": {},
   "outputs": [],
   "source": [
    "import pandas as pd\n",
    "# df = pd.read_feather('')"
   ]
  },
  {
   "attachments": {},
   "cell_type": "markdown",
   "metadata": {},
   "source": [
    "<br><br><br>\n",
    "\n",
    "## **Cleaning**\n",
    "\n",
    "---"
   ]
  },
  {
   "cell_type": "code",
   "execution_count": null,
   "metadata": {},
   "outputs": [],
   "source": [
    "# TODO - fill this in later as I work on more projects\n",
    "# TODO - At some point, transition the data cleaning operations to their own functions"
   ]
  },
  {
   "cell_type": "code",
   "execution_count": null,
   "metadata": {},
   "outputs": [],
   "source": [
    "# Data cleaning operations here"
   ]
  },
  {
   "attachments": {},
   "cell_type": "markdown",
   "metadata": {},
   "source": [
    "<br><br><br>\n",
    "\n",
    "## **EDA**\n",
    "\n",
    "---"
   ]
  },
  {
   "cell_type": "code",
   "execution_count": null,
   "metadata": {},
   "outputs": [],
   "source": [
    "# TODO - fill this in later as I work on more projects"
   ]
  },
  {
   "cell_type": "code",
   "execution_count": null,
   "metadata": {},
   "outputs": [],
   "source": [
    "# Data processing operations here"
   ]
  },
  {
   "attachments": {},
   "cell_type": "markdown",
   "metadata": {},
   "source": [
    "<br><br><br>\n",
    "\n",
    "## **Feature Engineering**\n",
    "\n",
    "---"
   ]
  },
  {
   "cell_type": "code",
   "execution_count": null,
   "metadata": {},
   "outputs": [],
   "source": [
    "# TODO - fill this in later as I work on more projects"
   ]
  },
  {
   "cell_type": "code",
   "execution_count": null,
   "metadata": {},
   "outputs": [],
   "source": [
    "# Data processing operations here"
   ]
  },
  {
   "attachments": {},
   "cell_type": "markdown",
   "metadata": {},
   "source": [
    "<br><br><br>\n",
    "\n",
    "## **Predictive Modeling**\n",
    "\n",
    "---"
   ]
  },
  {
   "cell_type": "code",
   "execution_count": null,
   "metadata": {},
   "outputs": [],
   "source": [
    "# TODO - fill this in later as I work on more projects"
   ]
  },
  {
   "cell_type": "code",
   "execution_count": null,
   "metadata": {},
   "outputs": [],
   "source": [
    "# Data processing operations here"
   ]
  },
  {
   "attachments": {},
   "cell_type": "markdown",
   "metadata": {},
   "source": [
    "<br><br><br>\n",
    "\n",
    "## **Visualization**\n",
    "\n",
    "---"
   ]
  },
  {
   "cell_type": "code",
   "execution_count": null,
   "metadata": {},
   "outputs": [],
   "source": [
    "# TODO - fill this in later as I work on more projects"
   ]
  },
  {
   "cell_type": "code",
   "execution_count": null,
   "metadata": {},
   "outputs": [],
   "source": [
    "# Data processing operations here"
   ]
  },
  {
   "attachments": {},
   "cell_type": "markdown",
   "metadata": {},
   "source": [
    "<br><br><br>\n",
    "\n",
    "## **Outputs**\n",
    "\n",
    "---"
   ]
  },
  {
   "cell_type": "code",
   "execution_count": null,
   "metadata": {},
   "outputs": [],
   "source": [
    "# Final output operations here"
   ]
  },
  {
   "cell_type": "code",
   "execution_count": null,
   "metadata": {},
   "outputs": [],
   "source": [
    "#stop"
   ]
  }
 ],
 "metadata": {
  "kernelspec": {
   "display_name": "Python 3",
   "language": "python",
   "name": "python3"
  },
  "language_info": {
   "codemirror_mode": {
    "name": "ipython",
    "version": 3
   },
   "file_extension": ".py",
   "mimetype": "text/x-python",
   "name": "python",
   "nbconvert_exporter": "python",
   "pygments_lexer": "ipython3",
   "version": "3.10.6"
  },
  "metadata": {
   "interpreter": {
    "hash": "bf2256466664d08ad5829690b78a52ff85021f5c7c81ebd85ac567841dd5c95f"
   }
  },
  "orig_nbformat": 2,
  "vscode": {
   "interpreter": {
    "hash": "d3e10ef16274dd72e574b8fa73b58450b957d8421a2901baded3cca26fcf5dda"
   }
  }
 },
 "nbformat": 4,
 "nbformat_minor": 2
}
