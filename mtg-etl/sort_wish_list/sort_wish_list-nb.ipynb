{
 "cells": [
  {
   "cell_type": "markdown",
   "metadata": {},
   "source": [
    "## **Objectives**\n",
    "\n",
    "---"
   ]
  },
  {
   "cell_type": "markdown",
   "metadata": {},
   "source": [
    "Create a tool for sorting through a wishlist / deck of cards into 3 potential output list with proper formatting\n",
    "\n",
    "- Output lists\n",
    "    - [cardkingdom deck builder](https://www.cardkingdom.com/builder)\n",
    "    - [mpcfill.com](https://mpcfill.com/)\n",
    "    - list of cards that are already owned (cross referencing _collection_db)\n"
   ]
  },
  {
   "cell_type": "markdown",
   "metadata": {},
   "source": [
    "<p style='page-break-after:always;'></p>\n",
    "\n",
    "<br><br>"
   ]
  },
  {
   "cell_type": "markdown",
   "metadata": {},
   "source": [
    "## **Inputs**\n",
    "\n",
    "---"
   ]
  },
  {
   "cell_type": "code",
   "execution_count": 1,
   "metadata": {},
   "outputs": [],
   "source": [
    "# input_csv_nm = 'mdfcs test list.csv'\n",
    "# [ ] update this input to take in the standardized 'wish_list.csv' file\n",
    "# input_csv_nm = 'wish_list.csv'\n",
    "input_csv_nm = 'wish_list_glue_out'\n",
    "\n",
    "price_limit_input = 5.00\n",
    "# input_csv_name = 'pako value wish list'\n",
    "input_csv_dir = 'C:\\\\git\\mtg-proj\\\\wish_lists\\\\wish_list_glue_output\\\\'\n",
    "input_csv_path = input_csv_dir+'\\\\'+input_csv_nm+'.csv'"
   ]
  },
  {
   "cell_type": "markdown",
   "metadata": {},
   "source": [
    "### **Visualizing ETL pipeline (example)**"
   ]
  },
  {
   "cell_type": "code",
   "execution_count": 2,
   "metadata": {},
   "outputs": [],
   "source": [
    "# # graphviz data pipeline example...\n",
    "# import graphviz\n",
    "\n",
    "# # Name of file and comment as arguments\n",
    "# graphviz_file_name  = 'MTG Wishlist to Order sort tool'\n",
    "# graphviz_comment    = 'MTG Wishlist to Order sort tool'\n",
    "# pipeline_graph = graphviz.Digraph(graphviz_file_name, comment = graphviz_comment)\n",
    "\n",
    "# # Definning alias and display name of each node\n",
    "# pipeline_graph.node('0', 'Wish list input')\n",
    "# pipeline_graph.node('1', 'Sorting tool')\n",
    "# pipeline_graph.node('2', '')\n",
    "# pipeline_graph.node('3', '')\n",
    "# pipeline_graph.node('4', '')\n",
    "# pipeline_graph.node('5', '')\n",
    "# pipeline_graph.node('6', '')\n",
    "# pipeline_graph.node('7', 'Alreay Owned List')\n",
    "# pipeline_graph.node('8', 'MPCFill Order List')\n",
    "# pipeline_graph.node('9', 'CardKingdom Order List')\n",
    "\n",
    "# # Defining connections between nodes\n",
    "# pipeline_graph.edges([\n",
    "#         '01', \n",
    "#         # '17', '18', '19'\n",
    "#         ])\n",
    "# pipeline_graph.edge('1', '7', constraint='false')\n",
    "# pipeline_graph.edge('1', '8', constraint='false')\n",
    "# pipeline_graph.edge('1', '9', constraint='false')\n",
    "\n",
    "# # save file to path\n",
    "# #pipeline_graph.render(directory='graphviz-output')\n",
    "\n",
    "# # printrender of graph\n",
    "# pipeline_graph"
   ]
  },
  {
   "cell_type": "code",
   "execution_count": 3,
   "metadata": {},
   "outputs": [],
   "source": [
    "#stop"
   ]
  },
  {
   "cell_type": "markdown",
   "metadata": {},
   "source": [
    "<br><br><br><br>"
   ]
  },
  {
   "cell_type": "markdown",
   "metadata": {},
   "source": [
    "### example scrython.cards. methods\n",
    "\n",
    "---\n",
    "\n",
    "- i.e.: \n",
    "```\n",
    "card = scrython.cards.Id(id=\"5386a61c-4928-4bd1-babe-5b089ab8b2d9\") \n",
    "card.name()       \n",
    "```\n",
    "\n",
    "- the above returns card name based on scryfall_id input\n",
    "\n",
    "<br><br>\n",
    "\n",
    "- `id()`\n",
    "- `tcgplayer_id()`\n",
    "- `name()`\n",
    "- `rarity()`\n",
    "- `set_code()`\n",
    "- `set_name()`\n",
    "- `colors()`\n",
    "  - all colors in the mana cost\n",
    "- `color_identity()`\n",
    "  - all colors found on the card\n",
    "- `cmc()`\n",
    "  - converted mana cost\n",
    "- `type_line()`\n",
    "  - full type line\n",
    "- `edhrec_rank()`\n",
    "  - edhrec.com ranking\n",
    "- `prices('usd')`\n",
    "  - prices updated once every 24h\n",
    "\n",
    "<br><br><br><br>\n",
    "\n",
    "[scrython docs - cards.Id methods](https://github.com/NandaScott/Scrython/blob/main/docs/scrython.cards/Id.md)"
   ]
  },
  {
   "cell_type": "markdown",
   "metadata": {},
   "source": [
    "<br><br><br>"
   ]
  },
  {
   "cell_type": "markdown",
   "metadata": {},
   "source": [
    "## **Dependent Imports / Setup Environment**\n",
    "\n",
    "---"
   ]
  },
  {
   "cell_type": "code",
   "execution_count": 4,
   "metadata": {},
   "outputs": [],
   "source": [
    "import pandas as pd\n",
    "from fp_data_toolbox import eda, fcal, notifier"
   ]
  },
  {
   "cell_type": "markdown",
   "metadata": {},
   "source": [
    "### **Variable Setup**"
   ]
  },
  {
   "cell_type": "code",
   "execution_count": 5,
   "metadata": {},
   "outputs": [],
   "source": [
    "###"
   ]
  },
  {
   "cell_type": "markdown",
   "metadata": {},
   "source": [
    "<br><br><br><br>"
   ]
  },
  {
   "cell_type": "markdown",
   "metadata": {},
   "source": [
    "## **Data Ingestion / Preprocessing**\n",
    "\n",
    "---"
   ]
  },
  {
   "cell_type": "markdown",
   "metadata": {},
   "source": [
    "### wish_list import"
   ]
  },
  {
   "cell_type": "code",
   "execution_count": 6,
   "metadata": {},
   "outputs": [],
   "source": [
    "wish_list_input_df = pd.read_csv(input_csv_path)    "
   ]
  },
  {
   "cell_type": "code",
   "execution_count": 7,
   "metadata": {},
   "outputs": [],
   "source": [
    "wish_list_stg = wish_list_input_df.rename(columns={\"count\": \"count_needed\", \"name\": \"name\"})"
   ]
  },
  {
   "cell_type": "code",
   "execution_count": 8,
   "metadata": {},
   "outputs": [],
   "source": [
    "### objective: split MDFC names into front and back fields\n",
    "\n",
    "### TODO [ ] adapt this for the possibility that MDFCs are split with '//' instead to '/'\n",
    "\n",
    "    # there's a better way to do this\n",
    "    # for loop\n",
    "    # See below example\n",
    "    # ====================================\n",
    "        # nm_list = glued_data_df['name'].to_list()\n",
    "        # upd_nm_list = []\n",
    "        # nm_str_find_list = []\n",
    "\n",
    "        # substr = \"/ \"\n",
    "        # inserttxt = \"/\"\n",
    "    # ====================================\n",
    "        # for nm_str in nm_list:\n",
    "        #     if nm_str.find(' / ') != -1:\n",
    "        #         nm_str = (inserttxt+substr).join(nm_str.split(substr))\n",
    "        #     if nm_str.find('//') == -1:\n",
    "        #         upd_nm_list.append(nm_str)\n",
    "        #         continue\n",
    "        #     upd_nm_list.append(nm_str) # append list\n",
    "\n",
    "        # glued_data_df['name'] = upd_nm_list\n",
    "    # ====================================\n",
    "\n",
    "\n",
    "nm_list = wish_list_stg['name'].to_list()\n",
    "front_list = []\n",
    "back_list = []\n",
    "\n",
    "\n",
    "for nm_str in nm_list:\n",
    "    front_nm_str = nm_str\n",
    "    back_nm_str = nm_str\n",
    "    if nm_str.find(' // ') != -1:\n",
    "        front_nm_str = nm_str.split(' // ')[0]\n",
    "        front_list.append(front_nm_str)\n",
    "        back_nm_str = nm_str.split(' // ')[1]\n",
    "        back_list.append(back_nm_str)\n",
    "    if nm_str.find(' / ') != -1:\n",
    "        front_nm_str = nm_str.split(' / ')[0]\n",
    "        front_list.append(front_nm_str)\n",
    "        back_nm_str = nm_str.split(' / ')[1]\n",
    "        back_list.append(back_nm_str)\n",
    "    if nm_str.find(' // ') == -1 and nm_str.find(' / ') == -1:\n",
    "        front_list.append(nm_str)\n",
    "        back_list.append('')\n",
    "\n",
    "\n",
    "# splitting name fields into front / back fields for MPC input list formatting\n",
    "# splitting on single / for input format from moxfield\n",
    "\n",
    "# new data frame with split value columns\n",
    "# split_df = wish_list_stg[\"name\"].str.split(\"/\", n = 1, expand = True)\n",
    "\n",
    "# making separate first name column from new data frame\n",
    "wish_list_stg[\"front\"]= front_list\n",
    "wish_list_stg[\"back\"]= back_list\n",
    "# making separate last name column from new data frame\n",
    "# wish_list_stg[\"back\"]= split_df[1]"
   ]
  },
  {
   "cell_type": "markdown",
   "metadata": {},
   "source": [
    "#### reindex"
   ]
  },
  {
   "cell_type": "code",
   "execution_count": 9,
   "metadata": {},
   "outputs": [],
   "source": [
    "wish_list_stg = wish_list_stg.reindex([\n",
    "    'count_needed',\n",
    "    'name',\n",
    "    'front',\n",
    "    'back',\n",
    "], axis=1)"
   ]
  },
  {
   "cell_type": "markdown",
   "metadata": {},
   "source": [
    "---"
   ]
  },
  {
   "cell_type": "code",
   "execution_count": 11,
   "metadata": {},
   "outputs": [],
   "source": [
    "### setup lists for scryfall querying\n",
    "scryfall_name_list = wish_list_stg['name'].tolist() # convert query key into list\n",
    "\n",
    "scryfall_prices = [] # setup list for appending\n",
    "index = len(scryfall_name_list) # create index for progress bar"
   ]
  },
  {
   "cell_type": "code",
   "execution_count": 12,
   "metadata": {},
   "outputs": [
    {
     "name": "stdout",
     "output_type": "stream",
     "text": [
      "1.0 / 1.00\r"
     ]
    }
   ],
   "source": [
    "### query scryfall for prices\n",
    "import nest_asyncio\n",
    "import scrython\n",
    "\n",
    "nest_asyncio.apply() # neede to manage connection\n",
    "i = 0 # setup variable for looping progress bar\n",
    "for sf_nm in scryfall_name_list:\n",
    "    card = scrython.cards.Named(exact=sf_nm) # pass in exact card names\n",
    "    card_price_flt = card.prices('usd') # return prices\n",
    "    scryfall_prices.append(card_price_flt) # append list\n",
    "    i = i + 1 # iterate on integer\n",
    "    progress_stat = str(round((i / index),2)) + ' / 1.0' # calc for progress\n",
    "    print(progress_stat, end='\\r') # print progress\n",
    "\n",
    "wish_list_stg['price_est_usd'] = scryfall_prices"
   ]
  },
  {
   "cell_type": "code",
   "execution_count": 13,
   "metadata": {},
   "outputs": [],
   "source": [
    "wish_list_stg = wish_list_stg.reindex([\n",
    "    'name',\n",
    "    'front',\n",
    "    'back',\n",
    "    'count_needed',\n",
    "    'price_est_usd'\n",
    "], axis=1)"
   ]
  },
  {
   "cell_type": "markdown",
   "metadata": {},
   "source": [
    "### collection_db import"
   ]
  },
  {
   "cell_type": "code",
   "execution_count": 14,
   "metadata": {},
   "outputs": [],
   "source": [
    "### import collection_db\n",
    "collection_db_nm = 'collection_db.csv'\n",
    "collection_db_dir = 'C:\\\\git\\\\mtg-proj\\\\collection_db\\\\'\n",
    "collection_db_path = collection_db_dir+collection_db_nm\n",
    "collection_db_df = pd.read_csv(collection_db_path)"
   ]
  },
  {
   "cell_type": "code",
   "execution_count": 15,
   "metadata": {},
   "outputs": [],
   "source": [
    "### [ ] add some way to filter out decks that we consider \"final\" / do not want to canibalize from\n",
    "    ### Potentially need to add a .csv as reference table of which card containers are off-limits for canibalization\n",
    "collection_db_df = collection_db_df.reindex([\n",
    "    'scryfall_id',\n",
    "    'name',\n",
    "    'front',\n",
    "    'back',\n",
    "    'count_owned',\n",
    "    'price_est_usd'\n",
    "], axis=1)"
   ]
  },
  {
   "cell_type": "markdown",
   "metadata": {},
   "source": [
    "<br><br><br><br>"
   ]
  },
  {
   "cell_type": "markdown",
   "metadata": {},
   "source": [
    "## **Data Cleaning**\n",
    "\n",
    "---"
   ]
  },
  {
   "cell_type": "code",
   "execution_count": 16,
   "metadata": {},
   "outputs": [],
   "source": [
    "wish_list_stg['count_needed']=[float(str(i).replace(\"None\", \"0\")) for i in wish_list_stg['count_needed']]\n",
    "wish_list_stg['count_needed']=wish_list_stg['count_needed'].fillna(0)\n",
    "wish_list_stg['count_needed'] = wish_list_stg['count_needed'].astype(int)"
   ]
  },
  {
   "cell_type": "code",
   "execution_count": 17,
   "metadata": {},
   "outputs": [],
   "source": [
    "collection_db_df['count_owned']=collection_db_df['count_owned'].fillna(0)\n",
    "collection_db_df['price_est_usd']=collection_db_df['price_est_usd'].fillna(0)\n",
    "\n",
    "collection_db_df['count_owned'] = collection_db_df['count_owned'].astype(int)\n",
    "collection_db_df['price_est_usd'] = collection_db_df['price_est_usd'].astype(float)"
   ]
  },
  {
   "cell_type": "markdown",
   "metadata": {},
   "source": [
    "<br><br><br><br>"
   ]
  },
  {
   "cell_type": "markdown",
   "metadata": {},
   "source": [
    "## **Processing**\n",
    "\n",
    "---"
   ]
  },
  {
   "cell_type": "code",
   "execution_count": 18,
   "metadata": {},
   "outputs": [],
   "source": [
    "wish_list_fnl = wish_list_stg.groupby(['front']).agg({'count_needed': ['sum'],'price_est_usd': ['min']}) # aggregating on 'front'\n",
    "wish_list_fnl.columns = ['count_needed','price_est_usd'] # flattening and renaming columns\n",
    "wish_list_fnl = wish_list_fnl.reset_index() # resetting index"
   ]
  },
  {
   "cell_type": "code",
   "execution_count": 19,
   "metadata": {},
   "outputs": [],
   "source": [
    "# aggregating collection db by 'front'\n",
    "collection_db_df = collection_db_df.groupby(['front']).sum()\n",
    "\n",
    "collection_db_df = collection_db_df.groupby(['front']).agg({'count_owned': ['sum']}) # aggregating on 'front'\n",
    "collection_db_df.columns = ['count_owned'] # flattening and renaming columns\n",
    "collection_db_df = collection_db_df.reset_index() # resetting index"
   ]
  },
  {
   "cell_type": "markdown",
   "metadata": {},
   "source": [
    "### **Join collection_db and wish_list**"
   ]
  },
  {
   "cell_type": "code",
   "execution_count": 20,
   "metadata": {},
   "outputs": [],
   "source": [
    "# join colleciton_db on to wish list\n",
    "wish_list_joined_df=wish_list_stg.merge(collection_db_df, on='front', how='left')"
   ]
  },
  {
   "cell_type": "code",
   "execution_count": 21,
   "metadata": {},
   "outputs": [],
   "source": [
    "# Sorting module here\n",
    "# [ ] separate list of already owned cards into df\n",
    "\n",
    "# data cleaning after merge\n",
    "wish_list_joined_df['count_needed']=[float(str(i).replace(\"None\", \"0\")) for i in wish_list_joined_df['count_needed']]\n",
    "wish_list_joined_df['count_owned']=[float(str(i).replace(\"None\", \"0\")) for i in wish_list_joined_df['count_owned']]\n",
    "wish_list_joined_df['price_est_usd']=[float(str(i).replace(\"None\", \"0\")) for i in wish_list_joined_df['price_est_usd']]\n",
    "\n",
    "wish_list_joined_df['count_needed']=wish_list_joined_df['count_needed'].fillna(0)\n",
    "wish_list_joined_df['count_owned']=wish_list_joined_df['count_owned'].fillna(0)\n",
    "wish_list_joined_df['price_est_usd']=wish_list_joined_df['price_est_usd'].fillna(0)\n",
    "\n",
    "wish_list_joined_df['count_needed'] = wish_list_joined_df['count_needed'].astype(int)\n",
    "wish_list_joined_df['count_owned'] = wish_list_joined_df['count_owned'].astype(int)\n",
    "wish_list_joined_df['price_est_usd']=wish_list_joined_df['price_est_usd'].astype(float)"
   ]
  },
  {
   "cell_type": "code",
   "execution_count": 22,
   "metadata": {},
   "outputs": [],
   "source": [
    "mask = ((wish_list_joined_df['count_needed']<=wish_list_joined_df['count_owned']) | (wish_list_joined_df['count_owned']!=0))\n",
    "already_owned_cards_df=wish_list_joined_df[mask]"
   ]
  },
  {
   "cell_type": "code",
   "execution_count": 23,
   "metadata": {},
   "outputs": [],
   "source": [
    "non_owned_cards_df = wish_list_joined_df.query('count_needed > count_owned')\n",
    "# non_owned_cards_df"
   ]
  },
  {
   "cell_type": "markdown",
   "metadata": {},
   "source": [
    "## Formatting for outputs"
   ]
  },
  {
   "cell_type": "code",
   "execution_count": 24,
   "metadata": {},
   "outputs": [],
   "source": [
    "mask = (non_owned_cards_df['price_est_usd']<=price_limit_input)\n",
    "mkt_order_df = non_owned_cards_df[mask]\n",
    "\n",
    "mask = (non_owned_cards_df['price_est_usd']>price_limit_input)\n",
    "mpc_order_df = non_owned_cards_df[mask]"
   ]
  },
  {
   "cell_type": "markdown",
   "metadata": {},
   "source": [
    "### Already owned\n",
    "\n",
    "---"
   ]
  },
  {
   "cell_type": "code",
   "execution_count": 25,
   "metadata": {},
   "outputs": [],
   "source": [
    "# [ ] finish this formatting\n",
    "already_owned_cards_df=already_owned_cards_df\n",
    "# already_owned_cards_df"
   ]
  },
  {
   "cell_type": "markdown",
   "metadata": {},
   "source": [
    "### CK Order\n",
    "\n",
    "---"
   ]
  },
  {
   "cell_type": "code",
   "execution_count": 26,
   "metadata": {},
   "outputs": [],
   "source": [
    "# [ ] finish this formatting\n",
    "ck_order_df = mkt_order_df.drop([\n",
    "    'front',\n",
    "    'back',\n",
    "    'count_owned',\n",
    "    'price_est_usd'\n",
    "    ], axis=1)\n",
    "\n",
    "ck_order_df = ck_order_df.reindex([\n",
    "    'count_needed',\n",
    "    'name'\n",
    "    ], axis=1)"
   ]
  },
  {
   "cell_type": "markdown",
   "metadata": {},
   "source": [
    "### TCGPlayer Order\n",
    "\n",
    "---"
   ]
  },
  {
   "cell_type": "code",
   "execution_count": 27,
   "metadata": {},
   "outputs": [],
   "source": [
    "# not needed for now\n",
    "# tcg_order_df=mkt_order_df\n",
    "# tcg_order_df = mkt_order_df.drop(columns=[\n",
    "#     'front', \n",
    "#     'back',\n",
    "#     'count_owned',\n",
    "#     # 'count_needed',\n",
    "#     'price_est_usd'\n",
    "#     ])\n",
    "# tcg_order_df = tcg_order_df.reindex([\n",
    "#     'count_needed',\n",
    "#     'name'\n",
    "#     ])"
   ]
  },
  {
   "cell_type": "code",
   "execution_count": 28,
   "metadata": {},
   "outputs": [],
   "source": [
    "# tcg_order_df"
   ]
  },
  {
   "cell_type": "markdown",
   "metadata": {},
   "source": [
    "### MPC Order\n",
    "\n",
    "---"
   ]
  },
  {
   "cell_type": "code",
   "execution_count": 29,
   "metadata": {},
   "outputs": [],
   "source": [
    "# [ ] finish this formatting\n",
    "mpc_order_df_fnl = mpc_order_df.drop([\n",
    "    'front',\n",
    "    'back',\n",
    "    'count_owned',\n",
    "    'price_est_usd'\n",
    "    ], axis=1)\n",
    "\n",
    "mpc_order_df_fnl = mpc_order_df_fnl.reindex([\n",
    "    'count_needed',\n",
    "    'name'\n",
    "    ], axis=1)"
   ]
  },
  {
   "cell_type": "code",
   "execution_count": 30,
   "metadata": {},
   "outputs": [],
   "source": [
    "#stop"
   ]
  },
  {
   "cell_type": "markdown",
   "metadata": {},
   "source": [
    "<br><br><br><br>"
   ]
  },
  {
   "cell_type": "markdown",
   "metadata": {},
   "source": [
    "## **Output**\n",
    "\n",
    "---\n",
    "\n",
    "- Already owned output\n",
    "\n",
    "- CK Order output\n",
    "\n",
    "- TCGPlayer Order output\n",
    "\n",
    "- MPCFill Order output\n",
    "\n",
    "- [x] notes on output formatting\n",
    "    - formatting of data must match input platform for each\n",
    "    - create new folder for each wish_list input\n",
    "        - within that folder, all outputs\n",
    "\n"
   ]
  },
  {
   "cell_type": "code",
   "execution_count": 31,
   "metadata": {},
   "outputs": [],
   "source": [
    "# [x] output dfs to .csv files in correct format"
   ]
  },
  {
   "cell_type": "code",
   "execution_count": 32,
   "metadata": {},
   "outputs": [
    {
     "data": {
      "text/plain": [
       "'C:\\\\git\\\\mtg-proj\\\\order_sort_tool\\\\output\\\\wish_list_glue_out - 2022-08-26'"
      ]
     },
     "execution_count": 32,
     "metadata": {},
     "output_type": "execute_result"
    }
   ],
   "source": [
    "# [x] create folder based on wish_list file name input\n",
    "output_order_name = input_csv_nm\n",
    "\n",
    "from datetime import date\n",
    "curr_dt = str(date.today())\n",
    "\n",
    "output_order_folder_path = 'C:\\\\git\\\\mtg-proj\\\\order_sort_tool\\\\output'\n",
    "output_order_folder_path_full = output_order_folder_path+'\\\\'+output_order_name+' - '+curr_dt\n",
    "output_order_folder_path_full"
   ]
  },
  {
   "cell_type": "code",
   "execution_count": 33,
   "metadata": {},
   "outputs": [
    {
     "name": "stdout",
     "output_type": "stream",
     "text": [
      "Directory  C:\\git\\mtg-proj\\order_sort_tool\\output\\wish_list_glue_out - 2022-08-26  already exists\n"
     ]
    }
   ],
   "source": [
    "import os\n",
    "# Create target directory & all intermediate directories if don't exists\n",
    "if not os.path.exists(output_order_folder_path_full):\n",
    "    os.makedirs(output_order_folder_path_full)\n",
    "    print(\"Directory \" , output_order_folder_path_full ,  \" Created \")\n",
    "else:    \n",
    "    print(\"Directory \" , output_order_folder_path_full ,  \" already exists\")"
   ]
  },
  {
   "cell_type": "code",
   "execution_count": 34,
   "metadata": {},
   "outputs": [],
   "source": [
    "already_owned_csv_out_path = output_order_folder_path_full+'\\\\already_owned_cards.csv'\n",
    "\n",
    "ck_order_csv_out_path = output_order_folder_path_full+'\\\\ck_order.csv'\n",
    "\n",
    "# tcg_order_csv_out_path = ''+'tcg_order.csv'\n",
    "\n",
    "mpc_order_csv_out_path = output_order_folder_path_full+'\\\\mpc_order.csv'"
   ]
  },
  {
   "cell_type": "code",
   "execution_count": 35,
   "metadata": {},
   "outputs": [],
   "source": [
    "# [ ] execute output .csv files\n",
    "already_owned_cards_df.to_csv(already_owned_csv_out_path,index=False)\n",
    "ck_order_df.to_csv(ck_order_csv_out_path,index=False)\n",
    "# tcg_order_df.to_csv(tcg_order_csv_out_path,index=False)\n",
    "mpc_order_df.to_csv(mpc_order_csv_out_path,index=False)"
   ]
  },
  {
   "cell_type": "markdown",
   "metadata": {},
   "source": [
    "---"
   ]
  },
  {
   "cell_type": "code",
   "execution_count": null,
   "metadata": {},
   "outputs": [],
   "source": [
    "# stop"
   ]
  }
 ],
 "metadata": {
  "kernelspec": {
   "display_name": "Python 3.10.6 64-bit",
   "language": "python",
   "name": "python3"
  },
  "language_info": {
   "codemirror_mode": {
    "name": "ipython",
    "version": 3
   },
   "file_extension": ".py",
   "mimetype": "text/x-python",
   "name": "python",
   "nbconvert_exporter": "python",
   "pygments_lexer": "ipython3",
   "version": "3.10.6"
  },
  "metadata": {
   "interpreter": {
    "hash": "bf2256466664d08ad5829690b78a52ff85021f5c7c81ebd85ac567841dd5c95f"
   }
  },
  "orig_nbformat": 2,
  "vscode": {
   "interpreter": {
    "hash": "d3e10ef16274dd72e574b8fa73b58450b957d8421a2901baded3cca26fcf5dda"
   }
  }
 },
 "nbformat": 4,
 "nbformat_minor": 2
}
