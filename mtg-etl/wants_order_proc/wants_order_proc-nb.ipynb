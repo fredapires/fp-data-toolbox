{
 "cells": [
  {
   "cell_type": "markdown",
   "metadata": {},
   "source": [
    "# **wants_order_proc**\n",
    "---\n",
    "\n",
    "<br><br><br><br>"
   ]
  },
  {
   "cell_type": "markdown",
   "metadata": {},
   "source": [
    "## **Objectives**\n",
    "\n",
    "---\n",
    "\n",
    "<br>\n",
    "\n",
    "Objective here is to remove a friction point by allowing the user to load lists of wished cards / decks into a centralized folder\n",
    "\n",
    "<br>\n",
    "\n",
    "- [**Data Flow Diagram**](/README.md/#data-flow-diagram)\n",
    "\n",
    "<br><br>\n",
    "\n",
    "### Previous revision interpreted objectives\n",
    "1. glue together .csv files from an input directory (`input_wish_list_path`) and output to a directory (`wants_bin`)\n",
    "\n",
    "- glue logic is good. Let's use that for v2. \n",
    "- there are other functions in here that we can use elsewhere\n",
    "\n",
    "<br><br>\n",
    "\n",
    "### Ideal objectives\n",
    "**`process_wants`**\n",
    "1. script that pulls all .csv and .txt files from a `wants_input` directory and glues them together into `wants_bin`\n",
    "    - `wants_bin` schema\n",
    "        - xxx\n",
    "\n",
    "2. if a file was successfully processed in step 1, then move it out of the wants_input folder and into `wants_processed`\n",
    "    - acting as a formal archive folder\n",
    "\n",
    "<br><br>\n",
    "\n",
    "**`make_order_lists`**:\n",
    "1. separate `wants_bin` into 2 order outputs: cardkingdom (or other card trading marketplace) and mpcfill.com\n",
    "    - based on input `_cutoff_price`\n",
    "2. if separated lists pass the quantity threshold for a given card order point (cardkingdom or makeplayingcards): `order_list` is saved and recorded in archive (`order_lists`)\n",
    "\n",
    "<br><br>\n",
    "\n",
    "- inputs:\n",
    "    - `wants_input`\n",
    "- outputs:\n",
    "    - `wants_bin`\n",
    "    - `order_lists`\n",
    "\n",
    "<br><br>\n",
    "\n",
    "### open questions\n",
    "\n",
    "- x\n",
    "\n",
    "<br><br><br><br>\n",
    "\n",
    "## **Imports / Setup Environment**\n",
    "\n",
    "---"
   ]
  },
  {
   "cell_type": "code",
   "execution_count": 35,
   "metadata": {},
   "outputs": [],
   "source": [
    "import pandas as pd\n",
    "from datetime import date\n",
    "\n",
    "from fp_data_toolbox import eda, notifier"
   ]
  },
  {
   "cell_type": "markdown",
   "metadata": {},
   "source": [
    "### **Variable Setup**"
   ]
  },
  {
   "cell_type": "code",
   "execution_count": 36,
   "metadata": {},
   "outputs": [],
   "source": [
    "curr_dt = str(date.today())\n",
    "\n",
    "wants_input_path = 'C:\\\\git\\\\mtg-proj\\\\data\\\\input\\\\wants_input'\n",
    "\n",
    "wants_bin_filename = 'wants_bin-active.csv'\n",
    "wants_bin_folder = 'C:\\\\git\\\\mtg-proj\\\\data\\\\output\\\\wants_bin'\n",
    "wants_bin_path = wants_bin_folder+'\\\\'+wants_bin_filename\n",
    "\n",
    "wants_bin_arch_name = 'wants_bin-'+curr_dt+'.csv'\n",
    "wants_bin_arch_folder = 'C:\\\\git\\\\mtg-proj\\\\data\\\\output\\\\wants_bin\\\\archive'\n",
    "wants_bin_arch_path = wants_bin_arch_folder+'\\\\'+wants_bin_arch_name"
   ]
  },
  {
   "cell_type": "markdown",
   "metadata": {},
   "source": [
    "<br><br><br><br>"
   ]
  },
  {
   "cell_type": "markdown",
   "metadata": {},
   "source": [
    "## **Data Ingestion**\n",
    "\n",
    "---"
   ]
  },
  {
   "cell_type": "markdown",
   "metadata": {},
   "source": [
    "some simple data cleaning happens here as well"
   ]
  },
  {
   "cell_type": "code",
   "execution_count": 37,
   "metadata": {},
   "outputs": [
    {
     "name": "stdout",
     "output_type": "stream",
     "text": [
      "txt search hit: [budget-cedh-spell-interaction.txt]\n",
      "csv search hit: [mdfc-list.csv]\n",
      "csv search hit: [minus the drawback.csv]\n"
     ]
    }
   ],
   "source": [
    "### import all csv and txt files at once and glue them together\n",
    "def ingest_wants_input(directory):\n",
    "    import glob\n",
    "    import os\n",
    "    \n",
    "    df_src=pd.DataFrame()\n",
    "    for filename in os.scandir(directory):\n",
    "        if filename.is_file():\n",
    "            if filename.path.endswith(\".csv\"):\n",
    "                \n",
    "                path, filename_str = os.path.split(filename.path)\n",
    "                print('csv search hit: ['+filename_str+']')\n",
    "                # print('Path is %s and file is %s' % (path, filename_str))\n",
    "\n",
    "                df = pd.read_csv(filename, header=None, low_memory=False)\n",
    "\n",
    "                # ====================================\n",
    "                ### splitting quantity and name on single cell to a split column\n",
    "                df = df.rename(columns={0: \"count_nm\"})\n",
    "\n",
    "                count_nm_s = pd.Series(df['count_nm'], index=df.index)\n",
    "\n",
    "                split_df = count_nm_s.str.split(\" \", expand=True, n=1) # split series on first space only and return as a df\n",
    "                df_stg = split_df\n",
    "                df_stg[\"count\"]= split_df[0]\n",
    "                df_stg[\"name\"]= split_df[1]\n",
    "                df=df_stg.drop(columns=[0,1])\n",
    "\n",
    "                # ====================================\n",
    "                ### taking in filename as input for field\n",
    "                _filename_str=str(filename)\n",
    "                \n",
    "                _filename_str = _filename_str.rsplit(\"'\", 1)[0] or filename\n",
    "                _filename_str = _filename_str.rsplit(\"'\", 1)[1] or filename\n",
    "                \n",
    "                df['input_filename'] = _filename_str\n",
    "\n",
    "                # ====================================\n",
    "                df_src=pd.concat([df_src,df],axis=0) # write data into output_df\n",
    "            \n",
    "            if filename.path.endswith(\".txt\"):\n",
    "                ### TODO [ ] write logic for processing txt input files (particularly from moxfield) ;noted_on:2022-09-29\n",
    "                    ### [ ] find example input .txt from moxfield for testing\n",
    "                    ### see archive_deck_list\n",
    "                path, filename_str = os.path.split(filename.path)\n",
    "                filename_str = filename_str.rsplit(\"-\",2)[0]+\".txt\"\n",
    "                print('txt search hit: ['+filename_str+']')\n",
    "                \n",
    "                # ====================================\n",
    "                # ### read in a text file with 'read_csv' below\n",
    "                df = pd.read_csv(filename.path, sep='\\t',header =None,names=['count_nm'])\n",
    "\n",
    "                # ====================================\n",
    "                # ### Data cleaning operations here\n",
    "                count_nm_s = pd.Series(df['count_nm'], index=df.index)\n",
    "                split_df = count_nm_s.str.split(\" \", expand=True, n=1) # split series on first space only and return as a df\n",
    "                df_stg = split_df\n",
    "                df_stg[\"count\"]= split_df[0]\n",
    "                df_stg[\"name\"]= split_df[1]\n",
    "                df_stg[\"input_filename\"] = filename_str\n",
    "                df = df_stg.drop(columns=[0,1])\n",
    "                # ====================================\n",
    "                df_src=pd.concat([df_src,df],axis=0) # write data into output_df\n",
    "                \n",
    "                continue\n",
    "    return df_src\n",
    "\n",
    "###=============================================\n",
    "wants_bin_df_src=ingest_wants_input(wants_input_path)\n"
   ]
  },
  {
   "cell_type": "code",
   "execution_count": 38,
   "metadata": {},
   "outputs": [
    {
     "data": {
      "text/html": [
       "<div>\n",
       "<style scoped>\n",
       "    .dataframe tbody tr th:only-of-type {\n",
       "        vertical-align: middle;\n",
       "    }\n",
       "\n",
       "    .dataframe tbody tr th {\n",
       "        vertical-align: top;\n",
       "    }\n",
       "\n",
       "    .dataframe thead th {\n",
       "        text-align: right;\n",
       "    }\n",
       "</style>\n",
       "<table border=\"1\" class=\"dataframe\">\n",
       "  <thead>\n",
       "    <tr style=\"text-align: right;\">\n",
       "      <th></th>\n",
       "      <th>count</th>\n",
       "      <th>name</th>\n",
       "      <th>input_filename</th>\n",
       "    </tr>\n",
       "  </thead>\n",
       "  <tbody>\n",
       "    <tr>\n",
       "      <th>0</th>\n",
       "      <td>1</td>\n",
       "      <td>Abolish</td>\n",
       "      <td>budget-cedh-spell-interaction.txt</td>\n",
       "    </tr>\n",
       "    <tr>\n",
       "      <th>1</th>\n",
       "      <td>1</td>\n",
       "      <td>Abrade</td>\n",
       "      <td>budget-cedh-spell-interaction.txt</td>\n",
       "    </tr>\n",
       "    <tr>\n",
       "      <th>2</th>\n",
       "      <td>1</td>\n",
       "      <td>Abrupt Decay</td>\n",
       "      <td>budget-cedh-spell-interaction.txt</td>\n",
       "    </tr>\n",
       "    <tr>\n",
       "      <th>3</th>\n",
       "      <td>1</td>\n",
       "      <td>An Offer You Can't Refuse</td>\n",
       "      <td>budget-cedh-spell-interaction.txt</td>\n",
       "    </tr>\n",
       "    <tr>\n",
       "      <th>4</th>\n",
       "      <td>1</td>\n",
       "      <td>Angel's Grace</td>\n",
       "      <td>budget-cedh-spell-interaction.txt</td>\n",
       "    </tr>\n",
       "    <tr>\n",
       "      <th>...</th>\n",
       "      <td>...</td>\n",
       "      <td>...</td>\n",
       "      <td>...</td>\n",
       "    </tr>\n",
       "    <tr>\n",
       "      <th>12</th>\n",
       "      <td>1</td>\n",
       "      <td>Stoneforge Mystic</td>\n",
       "      <td>minus the drawback.csv</td>\n",
       "    </tr>\n",
       "    <tr>\n",
       "      <th>13</th>\n",
       "      <td>1</td>\n",
       "      <td>Sword of the Animist</td>\n",
       "      <td>minus the drawback.csv</td>\n",
       "    </tr>\n",
       "    <tr>\n",
       "      <th>14</th>\n",
       "      <td>1</td>\n",
       "      <td>Tribute Mage</td>\n",
       "      <td>minus the drawback.csv</td>\n",
       "    </tr>\n",
       "    <tr>\n",
       "      <th>15</th>\n",
       "      <td>1</td>\n",
       "      <td>Trinket Mage</td>\n",
       "      <td>minus the drawback.csv</td>\n",
       "    </tr>\n",
       "    <tr>\n",
       "      <th>16</th>\n",
       "      <td>1</td>\n",
       "      <td>Unlicensed Hearse</td>\n",
       "      <td>minus the drawback.csv</td>\n",
       "    </tr>\n",
       "  </tbody>\n",
       "</table>\n",
       "<p>352 rows × 3 columns</p>\n",
       "</div>"
      ],
      "text/plain": [
       "   count                       name                     input_filename\n",
       "0      1                    Abolish  budget-cedh-spell-interaction.txt\n",
       "1      1                     Abrade  budget-cedh-spell-interaction.txt\n",
       "2      1               Abrupt Decay  budget-cedh-spell-interaction.txt\n",
       "3      1  An Offer You Can't Refuse  budget-cedh-spell-interaction.txt\n",
       "4      1              Angel's Grace  budget-cedh-spell-interaction.txt\n",
       "..   ...                        ...                                ...\n",
       "12     1          Stoneforge Mystic             minus the drawback.csv\n",
       "13     1       Sword of the Animist             minus the drawback.csv\n",
       "14     1               Tribute Mage             minus the drawback.csv\n",
       "15     1               Trinket Mage             minus the drawback.csv\n",
       "16     1          Unlicensed Hearse             minus the drawback.csv\n",
       "\n",
       "[352 rows x 3 columns]"
      ]
     },
     "execution_count": 38,
     "metadata": {},
     "output_type": "execute_result"
    }
   ],
   "source": [
    "# eda.copi_df(wants_bin_df_src)\n",
    "# wants_bin_df_src"
   ]
  },
  {
   "cell_type": "code",
   "execution_count": 28,
   "metadata": {},
   "outputs": [],
   "source": [
    "#stop"
   ]
  },
  {
   "cell_type": "markdown",
   "metadata": {},
   "source": [
    "<br><br><br>"
   ]
  },
  {
   "cell_type": "markdown",
   "metadata": {},
   "source": [
    "## **Data Cleaning**\n",
    "\n",
    "---"
   ]
  },
  {
   "cell_type": "code",
   "execution_count": 29,
   "metadata": {},
   "outputs": [],
   "source": [
    "### cleaning input data\n",
    "wants_bin_df_src=wants_bin_df_src.reset_index()"
   ]
  },
  {
   "cell_type": "code",
   "execution_count": 30,
   "metadata": {},
   "outputs": [],
   "source": [
    "nm_list = wants_bin_df_src['name'].to_list()\n",
    "upd_nm_list = []\n",
    "nm_str_find_list = []\n",
    "\n",
    "substr = \"/ \"\n",
    "inserttxt = \"/\""
   ]
  },
  {
   "cell_type": "code",
   "execution_count": 31,
   "metadata": {},
   "outputs": [],
   "source": [
    "for nm_str in nm_list:\n",
    "    if nm_str.find(' / ') != -1:\n",
    "        nm_str = (inserttxt+substr).join(nm_str.split(substr))\n",
    "    if nm_str.find('//') == -1:\n",
    "        upd_nm_list.append(nm_str)\n",
    "        continue\n",
    "    upd_nm_list.append(nm_str) # append list\n",
    "\n",
    "wants_bin_df_src['name'] = upd_nm_list"
   ]
  },
  {
   "cell_type": "markdown",
   "metadata": {},
   "source": [
    "### **Final Reindex**"
   ]
  },
  {
   "cell_type": "code",
   "execution_count": 32,
   "metadata": {},
   "outputs": [],
   "source": [
    "wants_bin_df_src = wants_bin_df_src.reindex([\n",
    "    'count',\n",
    "    'name',\n",
    "    'input_filename',\n",
    "], axis=1)"
   ]
  },
  {
   "cell_type": "code",
   "execution_count": 34,
   "metadata": {},
   "outputs": [
    {
     "data": {
      "text/html": [
       "<div>\n",
       "<style scoped>\n",
       "    .dataframe tbody tr th:only-of-type {\n",
       "        vertical-align: middle;\n",
       "    }\n",
       "\n",
       "    .dataframe tbody tr th {\n",
       "        vertical-align: top;\n",
       "    }\n",
       "\n",
       "    .dataframe thead th {\n",
       "        text-align: right;\n",
       "    }\n",
       "</style>\n",
       "<table border=\"1\" class=\"dataframe\">\n",
       "  <thead>\n",
       "    <tr style=\"text-align: right;\">\n",
       "      <th></th>\n",
       "      <th>count</th>\n",
       "      <th>name</th>\n",
       "      <th>input_filename</th>\n",
       "    </tr>\n",
       "  </thead>\n",
       "  <tbody>\n",
       "    <tr>\n",
       "      <th>0</th>\n",
       "      <td>1</td>\n",
       "      <td>Abolish</td>\n",
       "      <td>budget-cedh-spell-interaction.txt</td>\n",
       "    </tr>\n",
       "    <tr>\n",
       "      <th>1</th>\n",
       "      <td>1</td>\n",
       "      <td>Abrade</td>\n",
       "      <td>budget-cedh-spell-interaction.txt</td>\n",
       "    </tr>\n",
       "    <tr>\n",
       "      <th>2</th>\n",
       "      <td>1</td>\n",
       "      <td>Abrupt Decay</td>\n",
       "      <td>budget-cedh-spell-interaction.txt</td>\n",
       "    </tr>\n",
       "    <tr>\n",
       "      <th>3</th>\n",
       "      <td>1</td>\n",
       "      <td>An Offer You Can't Refuse</td>\n",
       "      <td>budget-cedh-spell-interaction.txt</td>\n",
       "    </tr>\n",
       "    <tr>\n",
       "      <th>4</th>\n",
       "      <td>1</td>\n",
       "      <td>Angel's Grace</td>\n",
       "      <td>budget-cedh-spell-interaction.txt</td>\n",
       "    </tr>\n",
       "    <tr>\n",
       "      <th>...</th>\n",
       "      <td>...</td>\n",
       "      <td>...</td>\n",
       "      <td>...</td>\n",
       "    </tr>\n",
       "    <tr>\n",
       "      <th>347</th>\n",
       "      <td>1</td>\n",
       "      <td>Stoneforge Mystic</td>\n",
       "      <td>minus the drawback.csv</td>\n",
       "    </tr>\n",
       "    <tr>\n",
       "      <th>348</th>\n",
       "      <td>1</td>\n",
       "      <td>Sword of the Animist</td>\n",
       "      <td>minus the drawback.csv</td>\n",
       "    </tr>\n",
       "    <tr>\n",
       "      <th>349</th>\n",
       "      <td>1</td>\n",
       "      <td>Tribute Mage</td>\n",
       "      <td>minus the drawback.csv</td>\n",
       "    </tr>\n",
       "    <tr>\n",
       "      <th>350</th>\n",
       "      <td>1</td>\n",
       "      <td>Trinket Mage</td>\n",
       "      <td>minus the drawback.csv</td>\n",
       "    </tr>\n",
       "    <tr>\n",
       "      <th>351</th>\n",
       "      <td>1</td>\n",
       "      <td>Unlicensed Hearse</td>\n",
       "      <td>minus the drawback.csv</td>\n",
       "    </tr>\n",
       "  </tbody>\n",
       "</table>\n",
       "<p>352 rows × 3 columns</p>\n",
       "</div>"
      ],
      "text/plain": [
       "    count                       name                     input_filename\n",
       "0       1                    Abolish  budget-cedh-spell-interaction.txt\n",
       "1       1                     Abrade  budget-cedh-spell-interaction.txt\n",
       "2       1               Abrupt Decay  budget-cedh-spell-interaction.txt\n",
       "3       1  An Offer You Can't Refuse  budget-cedh-spell-interaction.txt\n",
       "4       1              Angel's Grace  budget-cedh-spell-interaction.txt\n",
       "..    ...                        ...                                ...\n",
       "347     1          Stoneforge Mystic             minus the drawback.csv\n",
       "348     1       Sword of the Animist             minus the drawback.csv\n",
       "349     1               Tribute Mage             minus the drawback.csv\n",
       "350     1               Trinket Mage             minus the drawback.csv\n",
       "351     1          Unlicensed Hearse             minus the drawback.csv\n",
       "\n",
       "[352 rows x 3 columns]"
      ]
     },
     "execution_count": 34,
     "metadata": {},
     "output_type": "execute_result"
    }
   ],
   "source": [
    "eda.copi_df(wants_bin_df_src)\n",
    "wants_bin_df_src"
   ]
  },
  {
   "cell_type": "code",
   "execution_count": null,
   "metadata": {},
   "outputs": [],
   "source": [
    "#stop"
   ]
  },
  {
   "cell_type": "markdown",
   "metadata": {},
   "source": [
    "<br><br><br><br>"
   ]
  },
  {
   "cell_type": "markdown",
   "metadata": {},
   "source": [
    "## **Processing**\n",
    "\n",
    "---"
   ]
  },
  {
   "cell_type": "markdown",
   "metadata": {},
   "source": [
    "### **Initial Processing filter**"
   ]
  },
  {
   "cell_type": "markdown",
   "metadata": {},
   "source": [
    "- TODO [ ] write logic for filtering out records from `wants_bin_df_src`: 2022-09-29\n",
    "    - conditions for cards being processed into `wants_bin`\n",
    "        - Don't process if card name is invalid \n",
    "            - reference against scryfall data, checking for valid card names"
   ]
  },
  {
   "cell_type": "code",
   "execution_count": null,
   "metadata": {},
   "outputs": [],
   "source": [
    "### code here\n",
    "wants_bin_df_src"
   ]
  },
  {
   "cell_type": "markdown",
   "metadata": {},
   "source": [
    "### **Compare to colletion filtering**"
   ]
  },
  {
   "cell_type": "markdown",
   "metadata": {},
   "source": [
    "- TODO [ ] write logic for comparing `wants_bin_df_src` to relevant records: 2022-09-29\n",
    "    - Don't process if we already own `x` units (reference collection_db)\n",
    "    - Don't process if want_qty > `y` where `y` = collection_db['qty'] and wants_bin['qty']"
   ]
  },
  {
   "cell_type": "code",
   "execution_count": null,
   "metadata": {},
   "outputs": [],
   "source": [
    "_max_owned_land_qty = 8\n",
    "_max_owned_spell_qty = 4\n",
    "_max_wants_qty = 4"
   ]
  },
  {
   "cell_type": "markdown",
   "metadata": {},
   "source": [
    "- TODO [ ] scryfall data search for card type (land vs spell): 2022-09-29"
   ]
  },
  {
   "cell_type": "code",
   "execution_count": null,
   "metadata": {},
   "outputs": [],
   "source": [
    "### code here"
   ]
  },
  {
   "cell_type": "code",
   "execution_count": null,
   "metadata": {},
   "outputs": [],
   "source": [
    "#stop"
   ]
  },
  {
   "cell_type": "markdown",
   "metadata": {},
   "source": [
    "<br><br><br>"
   ]
  },
  {
   "cell_type": "markdown",
   "metadata": {},
   "source": [
    "## **Output**\n",
    "\n",
    "---\n"
   ]
  },
  {
   "cell_type": "code",
   "execution_count": null,
   "metadata": {},
   "outputs": [],
   "source": [
    "wants_bin_df_src.to_csv(wants_bin_path,index=False)\n",
    "wants_bin_df_src.to_csv(wants_bin_arch_path,index=False)"
   ]
  },
  {
   "cell_type": "code",
   "execution_count": null,
   "metadata": {},
   "outputs": [],
   "source": [
    "wants_bin_df_src"
   ]
  },
  {
   "cell_type": "code",
   "execution_count": null,
   "metadata": {},
   "outputs": [],
   "source": [
    "# stop"
   ]
  }
 ],
 "metadata": {
  "kernelspec": {
   "display_name": "Python 3.8.3 64-bit",
   "language": "python",
   "name": "python3"
  },
  "language_info": {
   "codemirror_mode": {
    "name": "ipython",
    "version": 3
   },
   "file_extension": ".py",
   "mimetype": "text/x-python",
   "name": "python",
   "nbconvert_exporter": "python",
   "pygments_lexer": "ipython3",
   "version": "3.8.3"
  },
  "metadata": {
   "interpreter": {
    "hash": "bf2256466664d08ad5829690b78a52ff85021f5c7c81ebd85ac567841dd5c95f"
   }
  },
  "orig_nbformat": 2,
  "vscode": {
   "interpreter": {
    "hash": "9650cb4e16cdd4a8e8e2d128bf38d875813998db22a3c986335f89e0cb4d7bb2"
   }
  }
 },
 "nbformat": 4,
 "nbformat_minor": 2
}
